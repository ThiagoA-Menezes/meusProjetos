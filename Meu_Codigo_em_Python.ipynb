{
  "nbformat": 4,
  "nbformat_minor": 0,
  "metadata": {
    "colab": {
      "name": "Meu Codigo em Python.ipynb",
      "provenance": [],
      "collapsed_sections": [],
      "authorship_tag": "ABX9TyOlaIn6KfjIoopeLnFmTqib",
      "include_colab_link": true
    },
    "kernelspec": {
      "name": "python3",
      "display_name": "Python 3"
    }
  },
  "cells": [
    {
      "cell_type": "markdown",
      "metadata": {
        "id": "view-in-github",
        "colab_type": "text"
      },
      "source": [
        "<a href=\"https://colab.research.google.com/github/ThiagoA-Menezes/meusProjetos/blob/Google-Colab/Meu_Codigo_em_Python.ipynb\" target=\"_parent\"><img src=\"https://colab.research.google.com/assets/colab-badge.svg\" alt=\"Open In Colab\"/></a>"
      ]
    },
    {
      "cell_type": "code",
      "metadata": {
        "id": "XVXkTafkLEH0",
        "colab_type": "code",
        "outputId": "8d5a11a5-c79b-42aa-b1f9-f85a6e26cfbc",
        "colab": {
          "base_uri": "https://localhost:8080/",
          "height": 51
        }
      },
      "source": [
        "print(\"Ola Mundo\")\n",
        "\n",
        "print(\"Ola Mundo2\")"
      ],
      "execution_count": 0,
      "outputs": [
        {
          "output_type": "stream",
          "text": [
            "Ola Mundo\n",
            "Ola Mundo2\n"
          ],
          "name": "stdout"
        }
      ]
    },
    {
      "cell_type": "code",
      "metadata": {
        "id": "ip2oZQZOLkoL",
        "colab_type": "code",
        "outputId": "c85d3d5e-ad26-426c-91d0-47f677cd5583",
        "colab": {
          "base_uri": "https://localhost:8080/",
          "height": 102
        }
      },
      "source": [
        "#-*- coding: utf-8 -*-\n",
        "#Esse é o meu primeiro comentário:\n",
        "print(\"Olá Mundo\")\n",
        "\n",
        "print (2+2)\n",
        "print (2**3)\n",
        "\n",
        "print (10 % 3)\n",
        "\n",
        "mensagem = (\"Ola Mundo\")\n",
        "\n",
        "print (mensagem)\n",
        "\n"
      ],
      "execution_count": 0,
      "outputs": [
        {
          "output_type": "stream",
          "text": [
            "Olá Mundo\n",
            "4\n",
            "8\n",
            "1\n",
            "Ola Mundo\n"
          ],
          "name": "stdout"
        }
      ]
    },
    {
      "cell_type": "code",
      "metadata": {
        "id": "YGgVF_hhNalU",
        "colab_type": "code",
        "colab": {
          "base_uri": "https://localhost:8080/",
          "height": 34
        },
        "outputId": "cb2d49ee-e7aa-4d07-e3c4-6e086442e502"
      },
      "source": [
        "#-*- coding: utf-8 -*-\n",
        "var1 = 1 #Variável inteira\n",
        "var2 = 1.1 #Variável Float\n",
        "var3 = \"eu sou uma string\" #Variável string\n",
        "var4 = True #verdadeiro\n",
        "var4 = False #falso\n",
        "\n",
        "\n",
        "x = 10 \n",
        "\n",
        "if(x % 2 == 1):\n",
        "  print(\"Numero Par\")\n",
        "else:\n",
        "  print(\"Numero Impar\")\n"
      ],
      "execution_count": 8,
      "outputs": [
        {
          "output_type": "stream",
          "text": [
            "Numero Impar\n"
          ],
          "name": "stdout"
        }
      ]
    },
    {
      "cell_type": "code",
      "metadata": {
        "id": "ZLAw3zw2UmB0",
        "colab_type": "code",
        "colab": {
          "base_uri": "https://localhost:8080/",
          "height": 34
        },
        "outputId": "c394a847-e6e2-4073-e528-c56586143936"
      },
      "source": [
        "x = 1\n",
        "y = 2\n",
        "\n",
        "if x == y: \n",
        "    print(\"numeros iguais\")\n",
        "elif y > x:\n",
        "    print(\"y maior que x\")\n",
        "else:\n",
        "    print(\"numeros diferentes\")"
      ],
      "execution_count": 9,
      "outputs": [
        {
          "output_type": "stream",
          "text": [
            "y maior que x\n"
          ],
          "name": "stdout"
        }
      ]
    },
    {
      "cell_type": "code",
      "metadata": {
        "id": "oghH5yG0Vdo3",
        "colab_type": "code",
        "colab": {
          "base_uri": "https://localhost:8080/",
          "height": 170
        },
        "outputId": "0a56a7db-1ab2-45ce-baff-513edffc43b7"
      },
      "source": [
        "x = 1\n",
        "\n",
        "while x < 10:\n",
        "  print(x)\n",
        "  x = x + 1 # x += 1 é igual\n",
        "\n",
        "\n",
        "\n"
      ],
      "execution_count": 10,
      "outputs": [
        {
          "output_type": "stream",
          "text": [
            "1\n",
            "2\n",
            "3\n",
            "4\n",
            "5\n",
            "6\n",
            "7\n",
            "8\n",
            "9\n"
          ],
          "name": "stdout"
        }
      ]
    },
    {
      "cell_type": "code",
      "metadata": {
        "id": "mVj-rs8-Wymz",
        "colab_type": "code",
        "colab": {
          "base_uri": "https://localhost:8080/",
          "height": 119
        },
        "outputId": "e3abc5c3-080b-4955-f393-121370a018f0"
      },
      "source": [
        "#tipo de variavel lista\n",
        "lista1 = [1,2,3,4,5]\n",
        "\n",
        "lista2 = [\"ola\", \"mundo\", \"!\"]\n",
        "\n",
        "lista3 = [0, \"ola\", \"biscoito\", \"bolacha\", 9.99, True]\n",
        "\n",
        "for i in lista3:\n",
        "  print(i)"
      ],
      "execution_count": 13,
      "outputs": [
        {
          "output_type": "stream",
          "text": [
            "0\n",
            "ola\n",
            "biscoito\n",
            "bolacha\n",
            "9.99\n",
            "True\n"
          ],
          "name": "stdout"
        }
      ]
    },
    {
      "cell_type": "code",
      "metadata": {
        "id": "1ulJc8ZRXlJu",
        "colab_type": "code",
        "colab": {
          "base_uri": "https://localhost:8080/",
          "height": 102
        },
        "outputId": "d2e99ab5-d0b7-422d-c239-544b1a9c9c3e"
      },
      "source": [
        "#range (primeiro elemento ou contagem inicial, até esse elemento, qual o número que será acrescido no primeiro elemento até chegar ao segundo)\n",
        "for i in range(10,20,2): \n",
        "  print(i)"
      ],
      "execution_count": 16,
      "outputs": [
        {
          "output_type": "stream",
          "text": [
            "10\n",
            "12\n",
            "14\n",
            "16\n",
            "18\n"
          ],
          "name": "stdout"
        }
      ]
    },
    {
      "cell_type": "code",
      "metadata": {
        "id": "aRSrKUHRYJIC",
        "colab_type": "code",
        "colab": {
          "base_uri": "https://localhost:8080/",
          "height": 51
        },
        "outputId": "0533915a-567c-47f9-e887-9bf39457f1a1"
      },
      "source": [
        "#numero = input(\"Digite um número: \")\n",
        "#print(\"O numero digitado é \")\n",
        "#print(numero)\n",
        "\n",
        "#nome = input (\"Digite seu nome \")\n",
        "#print(\"Bem Vindo \"+nome)"
      ],
      "execution_count": 20,
      "outputs": [
        {
          "output_type": "stream",
          "text": [
            "Digite seu nome Roberto\n",
            "Bem Vindo Roberto\n"
          ],
          "name": "stdout"
        }
      ]
    },
    {
      "cell_type": "code",
      "metadata": {
        "id": "YcY2RgEBZH7E",
        "colab_type": "code",
        "colab": {
          "base_uri": "https://localhost:8080/",
          "height": 238
        },
        "outputId": "1da0646f-1849-4cfd-818e-ee153b7200bd"
      },
      "source": [
        "#-*- coding: utf-8 -*-\n",
        "#Calculadora\n",
        "#Autor: Thiago\n",
        "#Função: Fazer contas\n",
        "#Operações matemáticas básicas\n",
        "\n",
        "print(\"----- Calculadora em Python v1.0 -----\")\n",
        "\n",
        "sair = False\n",
        "\n",
        "while sair == False:\n",
        "\n",
        "  num1 = input(\"Digite Primeiro Número: \")\n",
        "  num1 = int(num1)\n",
        "  operador = input(\"Insira o Operador (+, -, /, *): \")\n",
        "  num2 = input(\"Digite o Segundo Número: \")\n",
        "  num2 = int(num2)\n",
        "\n",
        "  # soma\n",
        "  if operador == \"+\":\n",
        "    operacao = num1 + num2\n",
        "\n",
        "  #subtração\n",
        "  if operador == \"-\":\n",
        "    operacao = num1 - num2\n",
        "\n",
        "  #divisão \n",
        "  if operador == \"/\":\n",
        "    operacao = num1 / num2\n",
        "\n",
        "  #multiplicação\n",
        "  if operador == \"*\":\n",
        "    operacao = num1 * num2\n",
        "\n",
        "  print(\"Resultado: \")\n",
        "  print(operacao)\n",
        "\n",
        "  teste = input(\"Deseja Sair? (n/s): \")\n",
        "  if teste == \"s\":\n",
        "    sair = True\n"
      ],
      "execution_count": 28,
      "outputs": [
        {
          "output_type": "stream",
          "text": [
            "----- Calculadora em Python v1.0 -----\n",
            "Digite Primeiro Número: 10\n",
            "Insira o Operador (+, -, /, *): /\n",
            "Digite o Segundo Número: 10\n",
            "Resultado: \n",
            "1.0\n",
            "Deseja Sair? (n/s): n\n",
            "Digite Primeiro Número: 1 \n",
            "Insira o Operador (+, -, /, *): +\n",
            "Digite o Segundo Número: 1\n",
            "Resultado: \n",
            "2\n",
            "Deseja Sair? (n/s): s\n"
          ],
          "name": "stdout"
        }
      ]
    },
    {
      "cell_type": "code",
      "metadata": {
        "id": "mar1MwCIp_e8",
        "colab_type": "code",
        "colab": {
          "base_uri": "https://localhost:8080/",
          "height": 34
        },
        "outputId": "b42827bd-f390-48fe-ead6-893f6ae8897d"
      },
      "source": [
        "lista = [1,2,3,4]\n",
        "\n",
        "lista.append(5)\n",
        "\n",
        "print (lista)"
      ],
      "execution_count": 33,
      "outputs": [
        {
          "output_type": "stream",
          "text": [
            "[1, 2, 3, 4, 5]\n"
          ],
          "name": "stdout"
        }
      ]
    }
  ]
}