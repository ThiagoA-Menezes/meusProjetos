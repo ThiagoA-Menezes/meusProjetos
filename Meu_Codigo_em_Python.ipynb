{
  "nbformat": 4,
  "nbformat_minor": 0,
  "metadata": {
    "colab": {
      "name": "Meu Codigo em Python.ipynb",
      "provenance": [],
      "authorship_tag": "ABX9TyOvSQkU9h+9/uBerGZ3gwLf",
      "include_colab_link": true
    },
    "kernelspec": {
      "name": "python3",
      "display_name": "Python 3"
    }
  },
  "cells": [
    {
      "cell_type": "markdown",
      "metadata": {
        "id": "view-in-github",
        "colab_type": "text"
      },
      "source": [
        "<a href=\"https://colab.research.google.com/github/ThiagoA-Menezes/meusProjetos/blob/Google-Colab/Meu_Codigo_em_Python.ipynb\" target=\"_parent\"><img src=\"https://colab.research.google.com/assets/colab-badge.svg\" alt=\"Open In Colab\"/></a>"
      ]
    },
    {
      "cell_type": "code",
      "metadata": {
        "id": "XVXkTafkLEH0",
        "colab_type": "code",
        "outputId": "8d5a11a5-c79b-42aa-b1f9-f85a6e26cfbc",
        "colab": {
          "base_uri": "https://localhost:8080/",
          "height": 51
        }
      },
      "source": [
        "print(\"Ola Mundo\")\n",
        "\n",
        "print(\"Ola Mundo2\")"
      ],
      "execution_count": 0,
      "outputs": [
        {
          "output_type": "stream",
          "text": [
            "Ola Mundo\n",
            "Ola Mundo2\n"
          ],
          "name": "stdout"
        }
      ]
    },
    {
      "cell_type": "code",
      "metadata": {
        "id": "ip2oZQZOLkoL",
        "colab_type": "code",
        "outputId": "c85d3d5e-ad26-426c-91d0-47f677cd5583",
        "colab": {
          "base_uri": "https://localhost:8080/",
          "height": 102
        }
      },
      "source": [
        "#-*- coding: utf-8 -*-\n",
        "#Esse é o meu primeiro comentário:\n",
        "print(\"Olá Mundo\")\n",
        "\n",
        "print (2+2)\n",
        "print (2**3)\n",
        "\n",
        "print (10 % 3)\n",
        "\n",
        "mensagem = (\"Ola Mundo\")\n",
        "\n",
        "print (mensagem)\n",
        "\n"
      ],
      "execution_count": 0,
      "outputs": [
        {
          "output_type": "stream",
          "text": [
            "Olá Mundo\n",
            "4\n",
            "8\n",
            "1\n",
            "Ola Mundo\n"
          ],
          "name": "stdout"
        }
      ]
    }
  ]
}